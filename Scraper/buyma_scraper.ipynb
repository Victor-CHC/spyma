{
  "cells": [
    {
      "metadata": {
        "trusted": true
      },
      "cell_type": "code",
      "source": "!pip install requests",
      "execution_count": 1,
      "outputs": [
        {
          "output_type": "stream",
          "text": "Requirement already satisfied: requests in /home/nbuser/anaconda3_501/lib/python3.6/site-packages (2.22.0)\nRequirement already satisfied: certifi>=2017.4.17 in /home/nbuser/anaconda3_501/lib/python3.6/site-packages (from requests) (2018.10.15)\nRequirement already satisfied: idna<2.9,>=2.5 in /home/nbuser/anaconda3_501/lib/python3.6/site-packages (from requests) (2.7)\nRequirement already satisfied: chardet<3.1.0,>=3.0.2 in /home/nbuser/anaconda3_501/lib/python3.6/site-packages (from requests) (3.0.4)\nRequirement already satisfied: urllib3!=1.25.0,!=1.25.1,<1.26,>=1.21.1 in /home/nbuser/anaconda3_501/lib/python3.6/site-packages (from requests) (1.23)\n\u001b[33mWARNING: You are using pip version 19.3.1; however, version 20.1.1 is available.\nYou should consider upgrading via the 'pip install --upgrade pip' command.\u001b[0m\n",
          "name": "stdout"
        }
      ]
    },
    {
      "metadata": {
        "trusted": true
      },
      "cell_type": "code",
      "source": "!pip install scrapy",
      "execution_count": 2,
      "outputs": [
        {
          "output_type": "stream",
          "text": "Collecting scrapy\n\u001b[?25l  Downloading https://files.pythonhosted.org/packages/d2/b1/105fe9a289e5bb64ec104076546f72060296d9989a0fc31a8b608c810868/Scrapy-2.2.0-py2.py3-none-any.whl (241kB)\n\u001b[K     |████████████████████████████████| 245kB 1.5MB/s eta 0:00:01\n\u001b[?25hRequirement already satisfied: pyOpenSSL>=16.2.0 in /home/nbuser/anaconda3_501/lib/python3.6/site-packages (from scrapy) (18.0.0)\nCollecting itemadapter>=0.1.0\n  Downloading https://files.pythonhosted.org/packages/7d/fb/92f848fcfa85dc9f95370eaecb5c99b5230dd4fc5c6bae684f4ca59df973/itemadapter-0.1.0-py3-none-any.whl\nCollecting cssselect>=0.9.1\n  Downloading https://files.pythonhosted.org/packages/3b/d4/3b5c17f00cce85b9a1e6f91096e1cc8e8ede2e1be8e96b87ce1ed09e92c5/cssselect-1.1.0-py2.py3-none-any.whl\nCollecting protego>=0.1.15\n\u001b[?25l  Downloading https://files.pythonhosted.org/packages/db/6e/bf6d5e4d7cf233b785719aaec2c38f027b9c2ed980a0015ec1a1cced4893/Protego-0.1.16.tar.gz (3.2MB)\n\u001b[K     |████████████████████████████████| 3.2MB 166kB/s eta 0:00:01\n\u001b[?25hCollecting w3lib>=1.17.0\n  Downloading https://files.pythonhosted.org/packages/a3/59/b6b14521090e7f42669cafdb84b0ab89301a42f1f1a82fcf5856661ea3a7/w3lib-1.22.0-py2.py3-none-any.whl\nCollecting PyDispatcher>=2.0.5\n  Downloading https://files.pythonhosted.org/packages/cd/37/39aca520918ce1935bea9c356bcbb7ed7e52ad4e31bff9b943dfc8e7115b/PyDispatcher-2.0.5.tar.gz\nCollecting parsel>=1.5.0\n  Downloading https://files.pythonhosted.org/packages/23/1e/9b39d64cbab79d4362cdd7be7f5e9623d45c4a53b3f7522cd8210df52d8e/parsel-1.6.0-py2.py3-none-any.whl\nRequirement already satisfied: service-identity>=16.0.0 in /home/nbuser/anaconda3_501/lib/python3.6/site-packages (from scrapy) (17.0.0)\nRequirement already satisfied: Twisted>=17.9.0 in /home/nbuser/anaconda3_501/lib/python3.6/site-packages (from scrapy) (18.7.0)\nRequirement already satisfied: zope.interface>=4.1.3 in /home/nbuser/anaconda3_501/lib/python3.6/site-packages (from scrapy) (4.5.0)\nRequirement already satisfied: lxml>=3.5.0 in /home/nbuser/anaconda3_501/lib/python3.6/site-packages (from scrapy) (4.2.5)\nRequirement already satisfied: cryptography>=2.0 in /home/nbuser/anaconda3_501/lib/python3.6/site-packages (from scrapy) (2.3.1)\nCollecting queuelib>=1.4.2\n  Downloading https://files.pythonhosted.org/packages/4c/85/ae64e9145f39dd6d14f8af3fa809a270ef3729f3b90b3c0cf5aa242ab0d4/queuelib-1.5.0-py2.py3-none-any.whl\nRequirement already satisfied: six>=1.5.2 in /home/nbuser/anaconda3_501/lib/python3.6/site-packages (from pyOpenSSL>=16.2.0->scrapy) (1.11.0)\nRequirement already satisfied: pyasn1-modules in /home/nbuser/anaconda3_501/lib/python3.6/site-packages (from service-identity>=16.0.0->scrapy) (0.2.2)\nRequirement already satisfied: pyasn1 in /home/nbuser/anaconda3_501/lib/python3.6/site-packages (from service-identity>=16.0.0->scrapy) (0.4.4)\nRequirement already satisfied: attrs in /home/nbuser/anaconda3_501/lib/python3.6/site-packages (from service-identity>=16.0.0->scrapy) (18.2.0)\nRequirement already satisfied: constantly>=15.1 in /home/nbuser/anaconda3_501/lib/python3.6/site-packages (from Twisted>=17.9.0->scrapy) (15.1.0)\nRequirement already satisfied: incremental>=16.10.1 in /home/nbuser/anaconda3_501/lib/python3.6/site-packages (from Twisted>=17.9.0->scrapy) (17.5.0)\nRequirement already satisfied: Automat>=0.3.0 in /home/nbuser/anaconda3_501/lib/python3.6/site-packages (from Twisted>=17.9.0->scrapy) (0.7.0)\nRequirement already satisfied: hyperlink>=17.1.1 in /home/nbuser/anaconda3_501/lib/python3.6/site-packages (from Twisted>=17.9.0->scrapy) (18.0.0)\nRequirement already satisfied: PyHamcrest>=1.9.0 in /home/nbuser/anaconda3_501/lib/python3.6/site-packages (from Twisted>=17.9.0->scrapy) (1.9.0)\nRequirement already satisfied: setuptools in /home/nbuser/anaconda3_501/lib/python3.6/site-packages (from zope.interface>=4.1.3->scrapy) (41.6.0)\nRequirement already satisfied: idna>=2.1 in /home/nbuser/anaconda3_501/lib/python3.6/site-packages (from cryptography>=2.0->scrapy) (2.7)\nRequirement already satisfied: asn1crypto>=0.21.0 in /home/nbuser/anaconda3_501/lib/python3.6/site-packages (from cryptography>=2.0->scrapy) (0.24.0)\nRequirement already satisfied: cffi!=1.11.3,>=1.7 in /home/nbuser/anaconda3_501/lib/python3.6/site-packages (from cryptography>=2.0->scrapy) (1.11.5)\nRequirement already satisfied: pycparser in /home/nbuser/anaconda3_501/lib/python3.6/site-packages (from cffi!=1.11.3,>=1.7->cryptography>=2.0->scrapy) (2.19)\nBuilding wheels for collected packages: protego, PyDispatcher\n  Building wheel for protego (setup.py) ... \u001b[?25ldone\n\u001b[?25h  Created wheel for protego: filename=Protego-0.1.16-cp36-none-any.whl size=8748 sha256=69cc82a4b40e11f29fa1e239a9dfbfbd8e1041d3ad2ddb6aed81510a53bd4f92\n  Stored in directory: /home/nbuser/.cache/pip/wheels/51/01/d1/4a2286a976dccd025ba679acacfe37320540df0f2283ecab12\n  Building wheel for PyDispatcher (setup.py) ... \u001b[?25ldone\n\u001b[?25h  Created wheel for PyDispatcher: filename=PyDispatcher-2.0.5-cp36-none-any.whl size=12728 sha256=769e343ca16099910f9d0961a84ae3dc9d703030110ebf6f17b9663157d0cde2\n  Stored in directory: /home/nbuser/.cache/pip/wheels/88/99/96/cfef6665f9cb1522ee6757ae5955feedf2fe25f1737f91fa7f\nSuccessfully built protego PyDispatcher\nInstalling collected packages: itemadapter, cssselect, protego, w3lib, PyDispatcher, parsel, queuelib, scrapy\nSuccessfully installed PyDispatcher-2.0.5 cssselect-1.1.0 itemadapter-0.1.0 parsel-1.6.0 protego-0.1.16 queuelib-1.5.0 scrapy-2.2.0 w3lib-1.22.0\n\u001b[33mWARNING: You are using pip version 19.3.1; however, version 20.1.1 is available.\nYou should consider upgrading via the 'pip install --upgrade pip' command.\u001b[0m\n",
          "name": "stdout"
        }
      ]
    },
    {
      "metadata": {
        "trusted": true
      },
      "cell_type": "code",
      "source": "import scrapy\nimport requests\nimport json\nfrom datetime import date, timedelta, datetime",
      "execution_count": 3,
      "outputs": []
    },
    {
      "metadata": {
        "trusted": true
      },
      "cell_type": "code",
      "source": "def item_json(url):\n    '''Gets the item data from the JSON of an item page.\n    INPUT: Item page URL\n    OUTPUT: JSON data'''\n\n    # Get a response from the URL\n    response = scrapy.Selector(text=requests.get(url, timeout=10).text)\n    \n    # Get tracking data\n    track_item_response = response.xpath('//meta[@name=\"buyma:track_item_json\"]/@content').get()\n    track_item_json = json.loads(track_item_response)\n    # Get main item data\n    recent_item_response = response.xpath('//meta[@name=\"buyma:recent_item_json\"]/@content').get()\n    recent_item_json = json.loads(recent_item_response)\n    # Get access data\n    access = response.xpath('//span[@class=\"ac_count\"]/text()').get()\n    # Get favourite data\n    fav = response.xpath('//span[@class=\"fav_count\"]/text()').get().split('人')[0]\n    \n    # Combine JSON data and output\n    return {'url':url, 'access_count': int(access), 'fav_count': int(fav), **recent_item_json,**track_item_json}",
      "execution_count": 4,
      "outputs": []
    },
    {
      "metadata": {
        "trusted": true
      },
      "cell_type": "code",
      "source": "item_json('https://www.buyma.com/item/53799545/')",
      "execution_count": 5,
      "outputs": [
        {
          "output_type": "execute_result",
          "execution_count": 5,
          "data": {
            "text/plain": "{'url': 'https://www.buyma.com/item/53799545/',\n 'access_count': 603,\n 'fav_count': 26,\n 'syo_id': 53799545,\n 'syo_name': 'CHANEL スニーカー シューズ 靴 CC ホワイト ロゴ 人気 新作 男',\n 'syo_img1': 'https://static-buyma-com.akamaized.net/imgdata/item/200427/0053799545/256874963/100.jpg',\n 'syo_img_090_1': 'https://static-buyma-com.akamaized.net/imgdata/item/200427/0053799545/256874963/090.jpg',\n 'syo_img_210_1': 'https://static-buyma-com.akamaized.net/imgdata/item/200427/0053799545/256874963/210.jpg',\n 'syo_url': 'https://www.buyma.com/item/53799545/',\n 'tanka_format': '153,720',\n 'discount_percentage': None,\n 'on_timesale': '',\n 'brand_name_eigo': 'CHANEL',\n 'brand_url': 'https://www.buyma.com/brand/CHANEL_%E3%82%B7%E3%83%A3%E3%83%8D%E3%83%AB.html',\n 'category_id': 3321,\n 'category': 'メンズファッション/靴・ブーツ・サンダル',\n 'buyer_id': 4880785,\n 'brand_id': 158,\n 'model_id': 104,\n 'season_id': 32,\n 'thm_id': 98,\n 'kokaidate': '2020-04-27T11:07:53+09:00',\n 'yukodate': '2020-07-30T23:59:59+09:00',\n 'cate_id1': 1002,\n 'cate_id2': 2204,\n 'cate_id3': 3321,\n 'tag_ids': [106, 341, 430, 445, 446, 447, 448, 502, 1037],\n 'reference_price_kbn': '0',\n 'reference_price': None,\n 'timesale_start_date': None,\n 'timesale_end_date': None,\n 'item_id': 53799545,\n 'price': 153720,\n 'coupon': None}"
          },
          "metadata": {}
        }
      ]
    },
    {
      "metadata": {
        "trusted": true
      },
      "cell_type": "code",
      "source": "buyer_url = 'https://www.buyma.com/buyer/4880785/sales_1.html'\nbuyer_response = scrapy.Selector(text=requests.get(buyer_url, timeout=10).text)",
      "execution_count": 6,
      "outputs": []
    },
    {
      "metadata": {
        "trusted": true
      },
      "cell_type": "code",
      "source": "buyer_table = buyer_response.xpath('//div[@id=\"buyeritemtable\"]')",
      "execution_count": 7,
      "outputs": []
    },
    {
      "metadata": {
        "trusted": true
      },
      "cell_type": "code",
      "source": "item_url_extensions = buyer_table.xpath('..//li[@class=\"buyeritemtable_img\"]/a/@href').extract()",
      "execution_count": 8,
      "outputs": []
    },
    {
      "metadata": {
        "trusted": true
      },
      "cell_type": "code",
      "source": "item_images = buyer_table.xpath('..//img/@src').extract()",
      "execution_count": 9,
      "outputs": []
    },
    {
      "metadata": {
        "trusted": true
      },
      "cell_type": "code",
      "source": "item_names = buyer_table.xpath('..//img/@alt').extract()",
      "execution_count": 10,
      "outputs": []
    },
    {
      "metadata": {
        "trusted": true
      },
      "cell_type": "code",
      "source": "sold_amounts_unformatted = buyer_table.xpath('..//li[@class=\"buyeritemtable_info\"]/p[2]/text()').extract()\nsold_amounts = [int(i.split('：')[1].split('個')[0]) for i in sold_amounts_unformatted]",
      "execution_count": 11,
      "outputs": []
    },
    {
      "metadata": {
        "trusted": true
      },
      "cell_type": "code",
      "source": "sold_dates_unformatted = buyer_table.xpath('..//li[@class=\"buyeritemtable_info\"]/p[3]/text()').extract()\nsold_dates = [datetime.strptime(i.split('：')[1], '%Y/%m/%d')  for i in sold_dates_unformatted]",
      "execution_count": 12,
      "outputs": []
    },
    {
      "metadata": {
        "trusted": true
      },
      "cell_type": "code",
      "source": "date_threshold = datetime.today() - timedelta(60)",
      "execution_count": 13,
      "outputs": []
    },
    {
      "metadata": {
        "trusted": true
      },
      "cell_type": "code",
      "source": "sold_dates[-1] > date_threshold",
      "execution_count": 14,
      "outputs": [
        {
          "output_type": "execute_result",
          "execution_count": 14,
          "data": {
            "text/plain": "True"
          },
          "metadata": {}
        }
      ]
    },
    {
      "metadata": {
        "trusted": true
      },
      "cell_type": "code",
      "source": "def seller_list(buyer_page_url, previous_days):\n    \n    items_dict = []\n    dt_threshold = datetime.today() - timedelta(previous_days)\n    in_time_frame = True\n    page_number=1\n    buyer_id = buyer_page_url.split('/')[4]\n    while True:\n        try:\n            url = 'https://www.buyma.com/buyer/{}/sales_{}.html'.format(buyer_id,page_number)\n            \n            response = scrapy.Selector(text=requests.get(url, timeout=10).text)\n            buyer_table = response.xpath('//div[@id=\"buyeritemtable\"]')\n\n            # Get item urls\n            item_url_extensions = buyer_table.xpath('..//li[@class=\"buyeritemtable_img\"]/a/@href').extract()\n            # Get item_images\n            item_images = buyer_table.xpath('..//img/@src').extract()\n            # Get item_names\n            item_names = buyer_table.xpath('..//img/@alt').extract()\n            # Get sold amounts\n            sold_amounts_unformatted = buyer_table.xpath('..//li[@class=\"buyeritemtable_info\"]/p[2]/text()').extract()\n            sold_amounts = [int(i.split('：')[1].split('個')[0]) for i in sold_amounts_unformatted]\n            # Get sold dates\n            sold_dates_unformatted = buyer_table.xpath('..//li[@class=\"buyeritemtable_info\"]/p[3]/text()').extract()\n            sold_dates = [datetime.strptime(i.split('：')[1], '%Y/%m/%d')  for i in sold_dates_unformatted]\n\n            keys = ['url_ext', 'img', 'item_name','sold_amount', 'sold_date']\n\n            # Combine to a dictionary\n            items_dict+= [dict(zip(keys,[item_url_extensions[i],\n                              item_images[i],\n                              item_names[i],\n                              sold_amounts[i],\n                              sold_dates[i]])) \n                          for i in range(len(item_url_extensions))]\n            print('Buyer page:', page_number)\n            print('Last date sold:', sold_dates[-1])\n            \n            # Loop check\n            if sold_dates[-1] > dt_threshold:\n                page_number+=1\n            else:\n                print('end')\n                break\n                \n        except:\n            print('No more item pages to get in time frame')\n            break\n\n        \n    return items_dict",
      "execution_count": 15,
      "outputs": []
    },
    {
      "metadata": {
        "trusted": true
      },
      "cell_type": "code",
      "source": "sold_dates[-1]",
      "execution_count": 16,
      "outputs": [
        {
          "output_type": "execute_result",
          "execution_count": 16,
          "data": {
            "text/plain": "datetime.datetime(2020, 6, 3, 0, 0)"
          },
          "metadata": {}
        }
      ]
    },
    {
      "metadata": {
        "trusted": true
      },
      "cell_type": "code",
      "source": "date_threshold = datetime.today() - timedelta(30)\nsold_dates[-1] > date_threshold",
      "execution_count": 17,
      "outputs": [
        {
          "output_type": "execute_result",
          "execution_count": 17,
          "data": {
            "text/plain": "False"
          },
          "metadata": {}
        }
      ]
    },
    {
      "metadata": {
        "trusted": true,
        "scrolled": false
      },
      "cell_type": "code",
      "source": "seller_list('https://www.buyma.com/buyer/4880785/sales_1.html', 60)\n",
      "execution_count": 18,
      "outputs": [
        {
          "output_type": "stream",
          "text": "Buyer page: 1\nLast date sold: 2020-06-03 00:00:00\nBuyer page: 2\nLast date sold: 2020-02-24 00:00:00\nend\n",
          "name": "stdout"
        },
        {
          "output_type": "execute_result",
          "execution_count": 18,
          "data": {
            "text/plain": "[{'url_ext': '/item/46113739/',\n  'img': 'https://static-buyma-com.akamaized.net/imgdata/item/190808/0046113739/209733446/210.jpg',\n  'item_name': 'Dior バッグ ショルダー ブラック オブリーク ロゴ 直営店 19AW',\n  'sold_amount': 1,\n  'sold_date': datetime.datetime(2020, 7, 17, 0, 0)},\n {'url_ext': '/item/43629712/',\n  'img': 'https://static-buyma-com.akamaized.net/imgdata/item/190510/0043629712/195083141/210.jpg',\n  'item_name': 'オプション/MY CLOSET*',\n  'sold_amount': 1,\n  'sold_date': datetime.datetime(2020, 7, 14, 0, 0)},\n {'url_ext': '/item/44765205/',\n  'img': 'https://static-buyma-com.akamaized.net/imgdata/item/190620/0044765205/201770895/210.jpg',\n  'item_name': 'Dior サンダル ネオプレン カーフ ブラック CD ロゴ メンズ 19AW',\n  'sold_amount': 1,\n  'sold_date': datetime.datetime(2020, 7, 10, 0, 0)},\n {'url_ext': '/item/45827554/',\n  'img': 'https://static-buyma-com.akamaized.net/imgdata/item/190729/0045827554/269034514/210.jpg',\n  'item_name': 'CHANEL ポーチ カード コイン ホルダー マト CC ラム ブラック',\n  'sold_amount': 1,\n  'sold_date': datetime.datetime(2020, 7, 10, 0, 0)},\n {'url_ext': '/item/50010752/',\n  'img': 'https://static-buyma-com.akamaized.net/imgdata/item/191221/0050010752/233407075/210.jpg',\n  'item_name': 'CHANEL チェーン クラッチ ゴート パール CC マト フラップ 限定',\n  'sold_amount': 1,\n  'sold_date': datetime.datetime(2020, 7, 9, 0, 0)},\n {'url_ext': '/item/50780264/',\n  'img': 'https://static-buyma-com.akamaized.net/imgdata/item/200121/0050780264/238091154/210.jpg',\n  'item_name': 'CHANEL バレッタ ヘア アクセサリー ロゴ メタル ギフト 女 新作',\n  'sold_amount': 1,\n  'sold_date': datetime.datetime(2020, 7, 9, 0, 0)},\n {'url_ext': '/item/49084902/',\n  'img': 'https://static-buyma-com.akamaized.net/imgdata/item/191118/0049084902/227591698/210.jpg',\n  'item_name': 'Dior ネックレス CD ロゴ アイコン 真鍮 シルバー 限定 直営 男',\n  'sold_amount': 1,\n  'sold_date': datetime.datetime(2020, 7, 9, 0, 0)},\n {'url_ext': '/item/48680473/',\n  'img': 'https://static-buyma-com.akamaized.net/imgdata/item/191103/0048680473/225115232/210.jpg',\n  'item_name': 'HERMES カード ケース MC2 ユークリッド ジャングル ロゴ 限定',\n  'sold_amount': 1,\n  'sold_date': datetime.datetime(2020, 7, 7, 0, 0)},\n {'url_ext': '/item/50497403/',\n  'img': 'https://static-buyma-com.akamaized.net/imgdata/item/200111/0050497403/236401105/210.jpg',\n  'item_name': 'CHANEL カードケース 名刺 定期入れ CC ブラック 革 マト 限定',\n  'sold_amount': 1,\n  'sold_date': datetime.datetime(2020, 7, 6, 0, 0)},\n {'url_ext': '/item/41341917/',\n  'img': 'https://static-buyma-com.akamaized.net/imgdata/item/190206/0041341917/182403198/210.jpg',\n  'item_name': '[RISE]トレーニング ベルト 革 スエード リフティング 筋トレ 男',\n  'sold_amount': 1,\n  'sold_date': datetime.datetime(2020, 7, 5, 0, 0)},\n {'url_ext': '/item/41341917/',\n  'img': 'https://static-buyma-com.akamaized.net/imgdata/item/190206/0041341917/182403198/210.jpg',\n  'item_name': '[RISE]トレーニング ベルト 革 スエード リフティング 筋トレ 男',\n  'sold_amount': 1,\n  'sold_date': datetime.datetime(2020, 7, 3, 0, 0)},\n {'url_ext': '/item/50703853/',\n  'img': 'https://static-buyma-com.akamaized.net/imgdata/item/200119/0050703853/245826497/210.jpg',\n  'item_name': 'CHANEL 水着 ワンピース スイムウェア CC ホワイト プリント 女',\n  'sold_amount': 1,\n  'sold_date': datetime.datetime(2020, 6, 30, 0, 0)},\n {'url_ext': '/item/47552561/',\n  'img': 'https://static-buyma-com.akamaized.net/imgdata/item/190926/0047552561/218304371/210.jpg',\n  'item_name': 'Dior バッグ ショルダー クラッチ マットカーフ スタッズ 黒 NEW',\n  'sold_amount': 1,\n  'sold_date': datetime.datetime(2020, 6, 27, 0, 0)},\n {'url_ext': '/item/49904328/',\n  'img': 'https://static-buyma-com.akamaized.net/imgdata/item/191217/0049904328/232738930/210.jpg',\n  'item_name': 'RISE ライズ PEAK BOTTOMS 日本未入荷 メンズ ブラック カーキ',\n  'sold_amount': 1,\n  'sold_date': datetime.datetime(2020, 6, 23, 0, 0)},\n {'url_ext': '/item/31016249/',\n  'img': 'https://static-buyma-com.akamaized.net/imgdata/item/170909/0031016249/253788272/210.jpg',\n  'item_name': '[RISE] ライズ キャップ 帽子  黒 送料関税込み ロゴ 日本未入荷',\n  'sold_amount': 1,\n  'sold_date': datetime.datetime(2020, 6, 23, 0, 0)},\n {'url_ext': '/item/31016326/',\n  'img': 'https://static-buyma-com.akamaized.net/imgdata/item/170909/0031016326/253785179/210.jpg',\n  'item_name': '[RISE] ライズ キャップ 帽子 白  送料関税込み 男性 日本未入荷',\n  'sold_amount': 1,\n  'sold_date': datetime.datetime(2020, 6, 23, 0, 0)},\n {'url_ext': '/item/35284276/',\n  'img': 'https://static-buyma-com.akamaized.net/imgdata/item/180407/0035284276/143026506/210.jpg',\n  'item_name': 'RISE ライズ PEAK BOTTOMS ブラック パンツ 日本未入荷 ネイビー',\n  'sold_amount': 1,\n  'sold_date': datetime.datetime(2020, 6, 23, 0, 0)},\n {'url_ext': '/item/49597210/',\n  'img': 'https://static-buyma-com.akamaized.net/imgdata/item/191205/0049597210/230830659/210.jpg',\n  'item_name': 'Dior スーツケース キャリーバッグ リモワ オブリーク 90L 限定',\n  'sold_amount': 1,\n  'sold_date': datetime.datetime(2020, 6, 21, 0, 0)},\n {'url_ext': '/item/33409827/',\n  'img': 'https://static-buyma-com.akamaized.net/imgdata/item/171229/0033409827/196505267/210.jpg',\n  'item_name': 'Chachi Momma セレブ愛用 スウェット パンツ ユニセックス 黒★',\n  'sold_amount': 1,\n  'sold_date': datetime.datetime(2020, 6, 20, 0, 0)},\n {'url_ext': '/item/47390396/',\n  'img': 'https://static-buyma-com.akamaized.net/imgdata/item/190921/0047390396/217339188/210.jpg',\n  'item_name': 'Dior スニーカー B01 カーフ ネイビー BEE メンズ 新作 直営 AW',\n  'sold_amount': 1,\n  'sold_date': datetime.datetime(2020, 6, 19, 0, 0)},\n {'url_ext': '/item/46929553/',\n  'img': 'https://static-buyma-com.akamaized.net/imgdata/item/190906/0046929553/218228660/210.jpg',\n  'item_name': 'DIOR サンダル スリッパ フラット ロゴ モノグラム  ブルー 直営',\n  'sold_amount': 1,\n  'sold_date': datetime.datetime(2020, 6, 17, 0, 0)},\n {'url_ext': '/item/44958487/',\n  'img': 'https://static-buyma-com.akamaized.net/imgdata/item/190627/0044958487/258268605/210.jpg',\n  'item_name': 'Dior ネックレス シルバー ロゴ チェーン メンズ 2019AW CD 新作',\n  'sold_amount': 1,\n  'sold_date': datetime.datetime(2020, 6, 17, 0, 0)},\n {'url_ext': '/item/48654017/',\n  'img': 'https://static-buyma-com.akamaized.net/imgdata/item/191103/0048654017/240236387/210.jpg',\n  'item_name': 'Dior ブーツ ハイ ロング フィッシュネット スエード 3cm 限定',\n  'sold_amount': 1,\n  'sold_date': datetime.datetime(2020, 6, 17, 0, 0)},\n {'url_ext': '/item/46255716/',\n  'img': 'https://static-buyma-com.akamaized.net/imgdata/item/190813/0046255716/210582757/210.jpg',\n  'item_name': 'CHANEL ウォレット フラップ ボーイ キャビア 即発 関税送料込み',\n  'sold_amount': 1,\n  'sold_date': datetime.datetime(2020, 6, 11, 0, 0)},\n {'url_ext': '/item/45880510/',\n  'img': 'https://static-buyma-com.akamaized.net/imgdata/item/190730/0045880510/208362395/210.jpg',\n  'item_name': 'CHANEL グローブ 手袋 アイボリー CC シアリング ストラス マト',\n  'sold_amount': 1,\n  'sold_date': datetime.datetime(2020, 6, 10, 0, 0)},\n {'url_ext': '/item/31409550/',\n  'img': 'https://static-buyma-com.akamaized.net/imgdata/item/170925/0031409550/255202820/210.jpg',\n  'item_name': '[RISE] ライズ 送料関税込み タンクトップ 日本未入荷 ロゴ',\n  'sold_amount': 1,\n  'sold_date': datetime.datetime(2020, 6, 6, 0, 0)},\n {'url_ext': '/item/53799545/',\n  'img': 'https://static-buyma-com.akamaized.net/imgdata/item/200427/0053799545/256874963/210.jpg',\n  'item_name': 'CHANEL スニーカー シューズ 靴 CC ホワイト ロゴ 人気 新作 男',\n  'sold_amount': 1,\n  'sold_date': datetime.datetime(2020, 6, 6, 0, 0)},\n {'url_ext': '/item/43084617/',\n  'img': 'https://static-buyma-com.akamaized.net/imgdata/item/190418/0043084617/191840776/210.jpg',\n  'item_name': 'Dior ネックレス ICON CD ロゴ リンク シルバー 新作 KIM JONES',\n  'sold_amount': 1,\n  'sold_date': datetime.datetime(2020, 6, 4, 0, 0)},\n {'url_ext': '/item/47584423/',\n  'img': 'https://static-buyma-com.akamaized.net/imgdata/item/190927/0047584423/218486585/210.jpg',\n  'item_name': 'Dior ストラップ ショルダー バッグ ベルト ロゴ キャンバス 女',\n  'sold_amount': 1,\n  'sold_date': datetime.datetime(2020, 6, 3, 0, 0)},\n {'url_ext': '/item/52202459/',\n  'img': 'https://static-buyma-com.akamaized.net/imgdata/item/200309/0052202459/247011943/210.jpg',\n  'item_name': 'CHANEL スリングバック CC バイカラー ツイード パープル 限定',\n  'sold_amount': 1,\n  'sold_date': datetime.datetime(2020, 6, 3, 0, 0)},\n {'url_ext': '/item/52300406/',\n  'img': 'https://static-buyma-com.akamaized.net/imgdata/item/200312/0052300406/251174006/210.jpg',\n  'item_name': 'CHANEL スニーカー CC ロゴ ファブリック カメリア 黒 レア 限定',\n  'sold_amount': 1,\n  'sold_date': datetime.datetime(2020, 6, 1, 0, 0)},\n {'url_ext': '/item/43084617/',\n  'img': 'https://static-buyma-com.akamaized.net/imgdata/item/190418/0043084617/191840776/210.jpg',\n  'item_name': 'Dior ネックレス ICON CD ロゴ リンク シルバー 新作 KIM JONES',\n  'sold_amount': 1,\n  'sold_date': datetime.datetime(2020, 5, 30, 0, 0)},\n {'url_ext': '/item/48466858/',\n  'img': 'https://static-buyma-com.akamaized.net/imgdata/item/191027/0048466858/223803682/210.jpg',\n  'item_name': 'Chrome Hearts フーディー ブラック 男女兼用 直営店 限定 黒',\n  'sold_amount': 1,\n  'sold_date': datetime.datetime(2020, 5, 22, 0, 0)},\n {'url_ext': '/item/49660444/',\n  'img': 'https://static-buyma-com.akamaized.net/imgdata/item/191207/0049660444/231202846/210.jpg',\n  'item_name': 'CHANEL パスポート カード ケース ラム マト CC クラシック 限定',\n  'sold_amount': 1,\n  'sold_date': datetime.datetime(2020, 5, 17, 0, 0)},\n {'url_ext': '/item/48802169/',\n  'img': 'https://static-buyma-com.akamaized.net/imgdata/item/191108/0048802169/225859369/210.jpg',\n  'item_name': 'CHANEL トート バッグ ジップ カーフ マト CC チェーン ラージ',\n  'sold_amount': 1,\n  'sold_date': datetime.datetime(2020, 5, 15, 0, 0)},\n {'url_ext': '/item/43084297/',\n  'img': 'https://static-buyma-com.akamaized.net/imgdata/item/190418/0043084297/191838962/210.jpg',\n  'item_name': 'Dior ブレスレット DANSEUSE ETOILE CD ロゴ チェーン 新作 女',\n  'sold_amount': 1,\n  'sold_date': datetime.datetime(2020, 5, 14, 0, 0)},\n {'url_ext': '/item/42744121/',\n  'img': 'https://static-buyma-com.akamaized.net/imgdata/item/190405/0042744121/189817051/210.jpg',\n  'item_name': 'Dior スニーカー B24 OBLIQUE ロゴ ホワイト ブラック Cannage',\n  'sold_amount': 1,\n  'sold_date': datetime.datetime(2020, 5, 13, 0, 0)},\n {'url_ext': '/item/51993514/',\n  'img': 'https://static-buyma-com.akamaized.net/imgdata/item/200303/0051993514/248115008/210.jpg',\n  'item_name': 'CHANEL スニーカー シューズ CC ロゴ カーフ ホワイト 限定 男',\n  'sold_amount': 1,\n  'sold_date': datetime.datetime(2020, 5, 12, 0, 0)},\n {'url_ext': '/item/35284276/',\n  'img': 'https://static-buyma-com.akamaized.net/imgdata/item/180407/0035284276/143026506/210.jpg',\n  'item_name': 'RISE ライズ PEAK BOTTOMS ブラック パンツ 日本未入荷 ネイビー',\n  'sold_amount': 1,\n  'sold_date': datetime.datetime(2020, 5, 6, 0, 0)},\n {'url_ext': '/item/35284381/',\n  'img': 'https://static-buyma-com.akamaized.net/imgdata/item/180407/0035284381/143028023/210.jpg',\n  'item_name': 'RISE ライズ SUMMIT BOTTOMS ブラック パンツ 日本未入荷 紺 男',\n  'sold_amount': 1,\n  'sold_date': datetime.datetime(2020, 5, 2, 0, 0)},\n {'url_ext': '/item/31016326/',\n  'img': 'https://static-buyma-com.akamaized.net/imgdata/item/170909/0031016326/118314452/210.jpg',\n  'item_name': '[RISE] ライズ キャップ 帽子 白  送料関税込み 男性 日本未入荷',\n  'sold_amount': 1,\n  'sold_date': datetime.datetime(2020, 5, 2, 0, 0)},\n {'url_ext': '/item/49502593/',\n  'img': 'https://static-buyma-com.akamaized.net/imgdata/item/191202/0049502593/235601362/210.jpg',\n  'item_name': 'Dior バッグ ショルダー ハンド レディディオール ラム ミニ 女',\n  'sold_amount': 1,\n  'sold_date': datetime.datetime(2020, 5, 1, 0, 0)},\n {'url_ext': '/item/44958487/',\n  'img': 'https://static-buyma-com.akamaized.net/imgdata/item/190627/0044958487/202927626/210.jpg',\n  'item_name': 'Dior ネックレス シルバー ロゴ チェーン メンズ 2019AW CD 新作',\n  'sold_amount': 1,\n  'sold_date': datetime.datetime(2020, 5, 1, 0, 0)},\n {'url_ext': '/item/48856034/',\n  'img': 'https://static-buyma-com.akamaized.net/imgdata/item/191109/0048856034/250705568/210.jpg',\n  'item_name': 'CHANEL サンダル トング スター CC ロゴ ブラック レザー 限定',\n  'sold_amount': 1,\n  'sold_date': datetime.datetime(2020, 4, 25, 0, 0)},\n {'url_ext': '/item/47936162/',\n  'img': 'https://static-buyma-com.akamaized.net/imgdata/item/191008/0047936162/220563013/210.jpg',\n  'item_name': 'CHANEL ポーチ 小物入れ ジップ CC ロゴ マト 限定 黒 ピンク 女',\n  'sold_amount': 1,\n  'sold_date': datetime.datetime(2020, 4, 24, 0, 0)},\n {'url_ext': '/item/47427529/',\n  'img': 'https://static-buyma-com.akamaized.net/imgdata/item/190922/0047427529/238196221/210.jpg',\n  'item_name': 'CHANEL 財布 ジップ ウォレット CC ロゴ ブラック レッド マト',\n  'sold_amount': 1,\n  'sold_date': datetime.datetime(2020, 4, 17, 0, 0)},\n {'url_ext': '/item/43084617/',\n  'img': 'https://static-buyma-com.akamaized.net/imgdata/item/190418/0043084617/191840776/210.jpg',\n  'item_name': 'Dior ネックレス ICON CD ロゴ リンク シルバー 新作 KIM JONES',\n  'sold_amount': 1,\n  'sold_date': datetime.datetime(2020, 4, 14, 0, 0)},\n {'url_ext': '/item/48466858/',\n  'img': 'https://static-buyma-com.akamaized.net/imgdata/item/191027/0048466858/223803682/210.jpg',\n  'item_name': 'Chrome Hearts フーディー ブラック 男女兼用 直営店 限定 黒',\n  'sold_amount': 1,\n  'sold_date': datetime.datetime(2020, 4, 13, 0, 0)},\n {'url_ext': '/item/51494520/',\n  'img': 'https://static-buyma-com.akamaized.net/imgdata/item/200216/0051494520/242789839/210.jpg',\n  'item_name': 'CHANEL ピアス メタル コスチューム パール フープ CC 限定 女',\n  'sold_amount': 1,\n  'sold_date': datetime.datetime(2020, 4, 13, 0, 0)},\n {'url_ext': '/item/52300538/',\n  'img': 'https://static-buyma-com.akamaized.net/imgdata/item/200312/0052300538/251173650/210.jpg',\n  'item_name': 'CHANEL スニーカー CC ロゴ ファブリック カメリア 黒 レア 限定',\n  'sold_amount': 1,\n  'sold_date': datetime.datetime(2020, 4, 10, 0, 0)},\n {'url_ext': '/item/51602817/',\n  'img': 'https://static-buyma-com.akamaized.net/imgdata/item/200220/0051602817/246519360/210.jpg',\n  'item_name': 'CHANEL ポーチ マトラッセ CC ブラック 限定 直営店 ギフト 新作',\n  'sold_amount': 1,\n  'sold_date': datetime.datetime(2020, 4, 3, 0, 0)},\n {'url_ext': '/item/51900597/',\n  'img': 'https://static-buyma-com.akamaized.net/imgdata/item/200229/0051900597/245148362/210.jpg',\n  'item_name': 'CHANEL ハンドバッグ ショルダー CC ブルー デニム マト 限定 SS',\n  'sold_amount': 1,\n  'sold_date': datetime.datetime(2020, 3, 30, 0, 0)},\n {'url_ext': '/item/50577194/',\n  'img': 'https://static-buyma-com.akamaized.net/imgdata/item/200115/0050577194/236885472/210.jpg',\n  'item_name': 'CHANEL スニーカー シューズ CC ロゴ カーフ ホワイト 限定 男',\n  'sold_amount': 1,\n  'sold_date': datetime.datetime(2020, 3, 28, 0, 0)},\n {'url_ext': '/item/52101685/',\n  'img': 'https://static-buyma-com.akamaized.net/imgdata/item/200306/0052101685/246398300/210.jpg',\n  'item_name': 'Dior IPHONE 11 PRO MAX ケース ラム レディディオール ブラック',\n  'sold_amount': 1,\n  'sold_date': datetime.datetime(2020, 3, 28, 0, 0)},\n {'url_ext': '/item/50665036/',\n  'img': 'https://static-buyma-com.akamaized.net/imgdata/item/200117/0050665036/237415741/210.jpg',\n  'item_name': 'CHANEL イヤリング メタル ストラス シルバー CC ロゴ 限定 直営',\n  'sold_amount': 1,\n  'sold_date': datetime.datetime(2020, 3, 6, 0, 0)},\n {'url_ext': '/item/41812005/',\n  'img': 'https://static-buyma-com.akamaized.net/imgdata/item/190226/0041812005/184241468/210.jpg',\n  'item_name': 'CHANEL クラッチ バッグ CC ロゴ ショルダー PVC ピンク クリア',\n  'sold_amount': 1,\n  'sold_date': datetime.datetime(2020, 3, 6, 0, 0)},\n {'url_ext': '/item/48273087/',\n  'img': 'https://static-buyma-com.akamaized.net/imgdata/item/191019/0048273087/222593835/210.jpg',\n  'item_name': 'Dior スカーフ トワルドジュイ シルクツイル ロゴ スクエア 限定',\n  'sold_amount': 1,\n  'sold_date': datetime.datetime(2020, 3, 5, 0, 0)},\n {'url_ext': '/item/48654017/',\n  'img': 'https://static-buyma-com.akamaized.net/imgdata/item/191103/0048654017/224971154/210.jpg',\n  'item_name': 'Dior ブーツ ハイ ロング フィッシュネット スエード 3cm 限定',\n  'sold_amount': 1,\n  'sold_date': datetime.datetime(2020, 2, 28, 0, 0)},\n {'url_ext': '/item/48802249/',\n  'img': 'https://static-buyma-com.akamaized.net/imgdata/item/191108/0048802249/233069027/210.jpg',\n  'item_name': 'CHANEL 31 ショッピング ハンド ショルダー バッグ デニム 限定',\n  'sold_amount': 1,\n  'sold_date': datetime.datetime(2020, 2, 26, 0, 0)},\n {'url_ext': '/item/48680034/',\n  'img': 'https://static-buyma-com.akamaized.net/imgdata/item/191103/0048680034/225113417/210.jpg',\n  'item_name': 'HERMES カード ケース MC2 ユークリッド 4CC ロゴ 2つ折り 限定',\n  'sold_amount': 1,\n  'sold_date': datetime.datetime(2020, 2, 24, 0, 0)}]"
          },
          "metadata": {}
        }
      ]
    },
    {
      "metadata": {
        "trusted": true
      },
      "cell_type": "code",
      "source": "",
      "execution_count": null,
      "outputs": []
    }
  ],
  "metadata": {
    "kernelspec": {
      "name": "python36",
      "display_name": "Python 3.6",
      "language": "python"
    },
    "language_info": {
      "mimetype": "text/x-python",
      "nbconvert_exporter": "python",
      "name": "python",
      "pygments_lexer": "ipython3",
      "version": "3.6.6",
      "file_extension": ".py",
      "codemirror_mode": {
        "version": 3,
        "name": "ipython"
      }
    }
  },
  "nbformat": 4,
  "nbformat_minor": 2
}